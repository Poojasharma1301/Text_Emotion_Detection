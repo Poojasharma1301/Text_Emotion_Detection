{
 "cells": [
  {
   "cell_type": "code",
   "execution_count": 1,
   "id": "7de02790",
   "metadata": {},
   "outputs": [],
   "source": [
    "import pandas as pd\n",
    "import numpy as np\n",
    "import keras\n",
    "import tensorflow\n",
    "from keras.preprocessing.text import Tokenizer\n",
    "from tensorflow.keras.preprocessing.sequence import pad_sequences\n",
    "from sklearn.preprocessing import LabelEncoder\n",
    "from sklearn.model_selection import train_test_split\n",
    "from keras.models import Sequential\n",
    "from keras.layers import Embedding, Flatten, Dense"
   ]
  },
  {
   "cell_type": "code",
   "execution_count": 2,
   "id": "56b61057-d772-4cb6-8c0b-6e645b6e9786",
   "metadata": {},
   "outputs": [
    {
     "data": {
      "text/html": [
       "<div>\n",
       "<style scoped>\n",
       "    .dataframe tbody tr th:only-of-type {\n",
       "        vertical-align: middle;\n",
       "    }\n",
       "\n",
       "    .dataframe tbody tr th {\n",
       "        vertical-align: top;\n",
       "    }\n",
       "\n",
       "    .dataframe thead th {\n",
       "        text-align: right;\n",
       "    }\n",
       "</style>\n",
       "<table border=\"1\" class=\"dataframe\">\n",
       "  <thead>\n",
       "    <tr style=\"text-align: right;\">\n",
       "      <th></th>\n",
       "      <th>Text</th>\n",
       "      <th>Emotions</th>\n",
       "    </tr>\n",
       "  </thead>\n",
       "  <tbody>\n",
       "    <tr>\n",
       "      <th>0</th>\n",
       "      <td>i can go from feeling so hopeless to so damned...</td>\n",
       "      <td>sadness</td>\n",
       "    </tr>\n",
       "    <tr>\n",
       "      <th>1</th>\n",
       "      <td>im grabbing a minute to post i feel greedy wrong</td>\n",
       "      <td>anger</td>\n",
       "    </tr>\n",
       "    <tr>\n",
       "      <th>2</th>\n",
       "      <td>i am ever feeling nostalgic about the fireplac...</td>\n",
       "      <td>love</td>\n",
       "    </tr>\n",
       "    <tr>\n",
       "      <th>3</th>\n",
       "      <td>i am feeling grouchy</td>\n",
       "      <td>anger</td>\n",
       "    </tr>\n",
       "    <tr>\n",
       "      <th>4</th>\n",
       "      <td>ive been feeling a little burdened lately wasn...</td>\n",
       "      <td>sadness</td>\n",
       "    </tr>\n",
       "  </tbody>\n",
       "</table>\n",
       "</div>"
      ],
      "text/plain": [
       "                                                Text Emotions\n",
       "0  i can go from feeling so hopeless to so damned...  sadness\n",
       "1   im grabbing a minute to post i feel greedy wrong    anger\n",
       "2  i am ever feeling nostalgic about the fireplac...     love\n",
       "3                               i am feeling grouchy    anger\n",
       "4  ive been feeling a little burdened lately wasn...  sadness"
      ]
     },
     "execution_count": 2,
     "metadata": {},
     "output_type": "execute_result"
    }
   ],
   "source": [
    "data = pd.read_csv(\"train.txt\", sep=';')\n",
    "data.columns = [\"Text\", \"Emotions\"]\n",
    "data.head()"
   ]
  },
  {
   "cell_type": "code",
   "execution_count": 9,
   "id": "d7c43b98-0a07-4770-a571-83283ebe2260",
   "metadata": {},
   "outputs": [],
   "source": [
    "# Find unique values in a specific column\n",
    "unique_values = data['Emotions'].unique()"
   ]
  },
  {
   "cell_type": "code",
   "execution_count": 10,
   "id": "b2a14865-b764-4def-909c-afb327f35c04",
   "metadata": {},
   "outputs": [
    {
     "data": {
      "text/plain": [
       "array(['sadness', 'anger', 'love', 'surprise', 'fear', 'joy'],\n",
       "      dtype=object)"
      ]
     },
     "execution_count": 10,
     "metadata": {},
     "output_type": "execute_result"
    }
   ],
   "source": [
    "unique_values"
   ]
  },
  {
   "cell_type": "code",
   "execution_count": 11,
   "id": "e66b1bf6",
   "metadata": {},
   "outputs": [],
   "source": [
    "texts = data[\"Text\"].tolist()\n",
    "labels = data[\"Emotions\"].tolist()\n",
    "\n",
    "# Tokenize the text data\n",
    "tokenizer = Tokenizer()\n",
    "tokenizer.fit_on_texts(texts)"
   ]
  },
  {
   "cell_type": "code",
   "execution_count": 12,
   "id": "3115b2c8",
   "metadata": {},
   "outputs": [],
   "source": [
    "sequences = tokenizer.texts_to_sequences(texts)\n",
    "max_length = max([len(seq) for seq in sequences])\n",
    "padded_sequences = pad_sequences(sequences, maxlen=max_length)"
   ]
  },
  {
   "cell_type": "code",
   "execution_count": 13,
   "id": "ce0f4edc",
   "metadata": {},
   "outputs": [],
   "source": [
    "# Encode the string labels to integers\n",
    "label_encoder = LabelEncoder()\n",
    "labels = label_encoder.fit_transform(labels)"
   ]
  },
  {
   "cell_type": "code",
   "execution_count": 14,
   "id": "6eb2214f",
   "metadata": {},
   "outputs": [],
   "source": [
    "# One-hot encode the labels\n",
    "one_hot_labels = keras.utils.to_categorical(labels)"
   ]
  },
  {
   "cell_type": "code",
   "execution_count": 15,
   "id": "388b81c7",
   "metadata": {},
   "outputs": [],
   "source": [
    "# Split the data into training and testing sets\n",
    "xtrain, xtest, ytrain, ytest = train_test_split(padded_sequences, \n",
    "                                                one_hot_labels, \n",
    "                                                test_size=0.2)"
   ]
  },
  {
   "cell_type": "code",
   "execution_count": 16,
   "id": "c0e4796f",
   "metadata": {},
   "outputs": [
    {
     "name": "stdout",
     "output_type": "stream",
     "text": [
      "Epoch 1/15\n",
      "400/400 [==============================] - 36s 77ms/step - loss: 1.3783 - accuracy: 0.4643 - val_loss: 0.9521 - val_accuracy: 0.6881\n",
      "Epoch 2/15\n",
      "400/400 [==============================] - 31s 78ms/step - loss: 0.3843 - accuracy: 0.8806 - val_loss: 0.5532 - val_accuracy: 0.8172\n",
      "Epoch 3/15\n",
      "400/400 [==============================] - 31s 77ms/step - loss: 0.0632 - accuracy: 0.9827 - val_loss: 0.5438 - val_accuracy: 0.8303\n",
      "Epoch 4/15\n",
      "400/400 [==============================] - 32s 79ms/step - loss: 0.0216 - accuracy: 0.9956 - val_loss: 0.6331 - val_accuracy: 0.8209\n",
      "Epoch 5/15\n",
      "400/400 [==============================] - 33s 82ms/step - loss: 0.0151 - accuracy: 0.9974 - val_loss: 0.6686 - val_accuracy: 0.8209\n",
      "Epoch 6/15\n",
      "400/400 [==============================] - 30s 76ms/step - loss: 0.0143 - accuracy: 0.9973 - val_loss: 0.6710 - val_accuracy: 0.8206\n",
      "Epoch 7/15\n",
      "400/400 [==============================] - 32s 80ms/step - loss: 0.0105 - accuracy: 0.9976 - val_loss: 0.6995 - val_accuracy: 0.8213\n",
      "Epoch 8/15\n",
      "400/400 [==============================] - 31s 79ms/step - loss: 0.0107 - accuracy: 0.9975 - val_loss: 0.7444 - val_accuracy: 0.8181\n",
      "Epoch 9/15\n",
      "400/400 [==============================] - 32s 80ms/step - loss: 0.0094 - accuracy: 0.9980 - val_loss: 0.7074 - val_accuracy: 0.8169\n",
      "Epoch 10/15\n",
      "400/400 [==============================] - 31s 78ms/step - loss: 0.0090 - accuracy: 0.9980 - val_loss: 0.8050 - val_accuracy: 0.8144\n",
      "Epoch 11/15\n",
      "400/400 [==============================] - 31s 77ms/step - loss: 0.0079 - accuracy: 0.9980 - val_loss: 0.8394 - val_accuracy: 0.8062\n",
      "Epoch 12/15\n",
      "400/400 [==============================] - 32s 79ms/step - loss: 0.0077 - accuracy: 0.9982 - val_loss: 0.7818 - val_accuracy: 0.8075\n",
      "Epoch 13/15\n",
      "400/400 [==============================] - 31s 78ms/step - loss: 0.0075 - accuracy: 0.9981 - val_loss: 0.8694 - val_accuracy: 0.8144\n",
      "Epoch 14/15\n",
      "400/400 [==============================] - 31s 77ms/step - loss: 0.0049 - accuracy: 0.9984 - val_loss: 0.8033 - val_accuracy: 0.8141\n",
      "Epoch 15/15\n",
      "400/400 [==============================] - 32s 79ms/step - loss: 0.0060 - accuracy: 0.9984 - val_loss: 0.9205 - val_accuracy: 0.8025\n"
     ]
    },
    {
     "data": {
      "text/plain": [
       "<keras.src.callbacks.History at 0x18a1a769910>"
      ]
     },
     "execution_count": 16,
     "metadata": {},
     "output_type": "execute_result"
    }
   ],
   "source": [
    "# Define the model\n",
    "model = Sequential()\n",
    "model.add(Embedding(input_dim=len(tokenizer.word_index) + 1, \n",
    "                    output_dim=128, input_length=max_length))\n",
    "model.add(Flatten())\n",
    "model.add(Dense(units=128, activation=\"relu\"))\n",
    "model.add(Dense(units=len(one_hot_labels[0]), activation=\"softmax\"))\n",
    "\n",
    "model.compile(optimizer=\"adam\", loss=\"categorical_crossentropy\", metrics=[\"accuracy\"])\n",
    "model.fit(xtrain, ytrain, epochs=15, batch_size=32, validation_data=(xtest, ytest))"
   ]
  },
  {
   "cell_type": "code",
   "execution_count": 17,
   "id": "2daa31ed",
   "metadata": {},
   "outputs": [],
   "source": [
    "model_architecture = model.to_json()\n",
    "with open(\"model_architecture.json\", \"w\") as json_file:\n",
    "    json_file.write(model_architecture)\n",
    "\n",
    "model.save_weights(\"model_weights.h5\")"
   ]
  },
  {
   "cell_type": "code",
   "execution_count": 18,
   "id": "42a247c6",
   "metadata": {},
   "outputs": [
    {
     "name": "stdout",
     "output_type": "stream",
     "text": [
      "1/1 [==============================] - 0s 232ms/step\n",
      "['sadness']\n"
     ]
    }
   ],
   "source": [
    "input_text = \"She didn't come today because she lost her dog yestertay!\"\n",
    "\n",
    "# Preprocess the input text\n",
    "input_sequence = tokenizer.texts_to_sequences([input_text])\n",
    "padded_input_sequence = pad_sequences(input_sequence, maxlen=max_length)\n",
    "prediction = model.predict(padded_input_sequence)\n",
    "predicted_label = label_encoder.inverse_transform([np.argmax(prediction[0])])\n",
    "print(predicted_label)"
   ]
  }
 ],
 "metadata": {
  "kernelspec": {
   "display_name": "Python 3 (ipykernel)",
   "language": "python",
   "name": "python3"
  },
  "language_info": {
   "codemirror_mode": {
    "name": "ipython",
    "version": 3
   },
   "file_extension": ".py",
   "mimetype": "text/x-python",
   "name": "python",
   "nbconvert_exporter": "python",
   "pygments_lexer": "ipython3",
   "version": "3.11.5"
  }
 },
 "nbformat": 4,
 "nbformat_minor": 5
}
